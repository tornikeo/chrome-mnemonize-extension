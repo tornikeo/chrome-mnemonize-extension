{
 "cells": [
  {
   "cell_type": "code",
   "execution_count": 1,
   "metadata": {},
   "outputs": [
    {
     "name": "stdout",
     "output_type": "stream",
     "text": [
      "/home/tornikeo/Documents/personal/serverless/chrome-mnemonize/api\n"
     ]
    }
   ],
   "source": [
    "%load_ext autoreload\n",
    "%autoreload 2\n",
    "%cd .."
   ]
  },
  {
   "cell_type": "code",
   "execution_count": 2,
   "metadata": {},
   "outputs": [],
   "source": [
    "import dotenv\n",
    "import os\n",
    "\n",
    "assert dotenv.load_dotenv()"
   ]
  },
  {
   "cell_type": "code",
   "execution_count": 5,
   "metadata": {},
   "outputs": [],
   "source": [
    "from app.web.search import search"
   ]
  },
  {
   "cell_type": "code",
   "execution_count": 8,
   "metadata": {},
   "outputs": [],
   "source": [
    "word = \"pelätä\"\n",
    "query = f\"finnish etymology {word}\""
   ]
  },
  {
   "cell_type": "code",
   "execution_count": 12,
   "metadata": {},
   "outputs": [],
   "source": [
    "search_results = search(query=query)"
   ]
  },
  {
   "cell_type": "code",
   "execution_count": 17,
   "metadata": {},
   "outputs": [
    {
     "name": "stdout",
     "output_type": "stream",
     "text": [
      "https://en.wiktionary.org/wiki/pel%C3%A4t%C3%A4\n"
     ]
    }
   ],
   "source": [
    "for search_result in search_results['organic']:\n",
    "    link = search_result['link']\n",
    "    if link.startswith('https://en.wiktionary.org/wiki/'):\n",
    "        print(link)"
   ]
  },
  {
   "cell_type": "code",
   "execution_count": 20,
   "metadata": {},
   "outputs": [],
   "source": [
    "from bs4 import BeautifulSoup\n",
    "import requests\n",
    "\n",
    "soup = BeautifulSoup(requests.get(link).content, \"html.parser\")"
   ]
  },
  {
   "cell_type": "code",
   "execution_count": 40,
   "metadata": {},
   "outputs": [
    {
     "name": "stdout",
     "output_type": "stream",
     "text": [
      "Collecting unmarkd\n",
      "  Obtaining dependency information for unmarkd from https://files.pythonhosted.org/packages/2a/7e/2118c0f06e398cf2b2a84893c18278edaccd38033711136918a64b959d71/unmarkd-1.1.1-py3-none-any.whl.metadata\n",
      "  Downloading unmarkd-1.1.1-py3-none-any.whl.metadata (10 kB)\n",
      "Requirement already satisfied: beautifulsoup4>=4.12.2 in /home/tornikeo/miniconda3/envs/openai-app/lib/python3.10/site-packages (from unmarkd) (4.12.2)\n",
      "Requirement already satisfied: soupsieve>1.2 in /home/tornikeo/miniconda3/envs/openai-app/lib/python3.10/site-packages (from beautifulsoup4>=4.12.2->unmarkd) (2.4.1)\n",
      "Downloading unmarkd-1.1.1-py3-none-any.whl (21 kB)\n",
      "Installing collected packages: unmarkd\n",
      "Successfully installed unmarkd-1.1.1\n"
     ]
    }
   ],
   "source": [
    "! pip install unmarkd"
   ]
  },
  {
   "cell_type": "code",
   "execution_count": 38,
   "metadata": {},
   "outputs": [
    {
     "data": {
      "text/plain": [
       "<p>From <span class=\"etyl\"><a class=\"extiw\" href=\"https://en.wikipedia.org/wiki/Proto-Finnic_language\" title=\"w:Proto-Finnic language\">Proto-Finnic</a></span> <i class=\"Latn mention\" lang=\"urj-fin-pro\"><a href=\"/wiki/Reconstruction:Proto-Finnic/pelg%C3%A4it%27%C3%A4k\" title=\"Reconstruction:Proto-Finnic/pelgäit'äk\">*pelgäit'äk</a></i>, derived from <span class=\"etyl\"><a class=\"extiw\" href=\"https://en.wikipedia.org/wiki/Proto-Uralic_language\" title=\"w:Proto-Uralic language\">Proto-Uralic</a></span> <i class=\"Latnx mention\" lang=\"urj-pro\"><a href=\"/wiki/Reconstruction:Proto-Uralic/pele-\" title=\"Reconstruction:Proto-Uralic/pele-\">*pele-</a></i> of identical meaning (whence e.g. <span class=\"etyl\"><a class=\"extiw\" href=\"https://en.wikipedia.org/wiki/Northern_S%C3%A1mi\" title=\"w:Northern Sámi\">Northern Sami</a></span> <i class=\"Latn mention\" lang=\"se\"><a href=\"/wiki/ballat#Northern_Sami\" title=\"ballat\">ballat</a></i>, <span class=\"etyl\"><a class=\"extiw\" href=\"https://en.wikipedia.org/wiki/Erzya_language\" title=\"w:Erzya language\">Erzya</a></span> <i class=\"Cyrl mention\" lang=\"myv\"><a href=\"/wiki/%D0%BF%D0%B5%D0%BB%D0%B5%D0%BC%D1%81#Erzya\" title=\"пелемс\">пелемс</a></i> <span class=\"mention-gloss-paren annotation-paren\">(</span><span class=\"mention-tr tr Latn\" lang=\"myv-Latn\">peľems</span><span class=\"mention-gloss-paren annotation-paren\">)</span>, <span class=\"etyl\"><a class=\"extiw\" href=\"https://en.wikipedia.org/wiki/Mansi_language\" title=\"w:Mansi language\">Mansi</a></span> <i class=\"Cyrl mention\" lang=\"mns\"><a href=\"/wiki/%D0%BF%D0%B8%D0%BB%D1%83%D3%88%D0%BA%D0%B2%D0%B5#Mansi\" title=\"пилуӈкве\">пилуӈкве</a></i> <span class=\"mention-gloss-paren annotation-paren\">(</span><span class=\"mention-tr tr Latn\" lang=\"mns-Latn\">piluňkwe</span><span class=\"mention-gloss-paren annotation-paren\">)</span> and <span class=\"etyl\"><a class=\"extiw\" href=\"https://en.wikipedia.org/wiki/Hungarian_language\" title=\"w:Hungarian language\">Hungarian</a></span> <i class=\"Latn mention\" lang=\"hu\"><a href=\"/wiki/f%C3%A9l#Hungarian:_afraid\" title=\"fél\">fél</a></i>).\n",
       "</p>"
      ]
     },
     "execution_count": 38,
     "metadata": {},
     "output_type": "execute_result"
    }
   ],
   "source": [
    "etym = soup.select_one('#Etymology').parent.next_sibling.next_sibling\n",
    "etym"
   ]
  },
  {
   "cell_type": "code",
   "execution_count": 49,
   "metadata": {},
   "outputs": [
    {
     "name": "stdout",
     "output_type": "stream",
     "text": [
      "From Proto-Finnic *pelgäit'äk, derived from Proto-Uralic *pele- of identical meaning (whence e.g. Northern Sami ballat, Erzya пелемс (peľems), Mansi пилуӈкве (piluňkwe) and Hungarian fél).\n"
     ]
    }
   ],
   "source": [
    "import bs4\n",
    "from unmarkd.unmarkers import BaseUnmarker\n",
    "\n",
    "class WikiUnmarker(BaseUnmarker):\n",
    "    def tag_i(self: BaseUnmarker, child: bs4.Tag) -> str:\n",
    "        print(child)\n",
    "        return super().tag_a(child)\n",
    "print(WikiUnmarker().unmark(etym.text))"
   ]
  },
  {
   "cell_type": "code",
   "execution_count": 45,
   "metadata": {},
   "outputs": [
    {
     "data": {
      "text/plain": [
       "\"From Proto-Finnic *pelgäit'äk, derived from Proto-Uralic *pele- of identical meaning (whence e.g. Northern Sami ballat, Erzya пелемс (peľems), Mansi пилуӈкве (piluňkwe) and Hungarian fél).\\n\""
      ]
     },
     "execution_count": 45,
     "metadata": {},
     "output_type": "execute_result"
    }
   ],
   "source": [
    "etym."
   ]
  },
  {
   "cell_type": "code",
   "execution_count": 16,
   "metadata": {},
   "outputs": [
    {
     "data": {
      "text/plain": [
       "{'searchParameters': {'q': 'finnish etymology pelätä',\n",
       "  'type': 'search',\n",
       "  'engine': 'google'},\n",
       " 'organic': [{'title': 'pelätä - Wiktionary, the free dictionary',\n",
       "   'link': 'https://en.wiktionary.org/wiki/pel%C3%A4t%C3%A4',\n",
       "   'snippet': \"EtymologyEdit. From Proto-Finnic *pelgäit'äk, derived from Proto-Uralic *pele- of identical meaning (whence e.g. ...\",\n",
       "   'sitelinks': [{'title': 'Finnish',\n",
       "     'link': 'https://en.wiktionary.org/wiki/pel%C3%A4t%C3%A4#Finnish'},\n",
       "    {'title': 'Verb',\n",
       "     'link': 'https://en.wiktionary.org/wiki/pel%C3%A4t%C3%A4#Verb'}],\n",
       "   'position': 1},\n",
       "  {'title': 'pelata - Wiktionary, the free dictionary',\n",
       "   'link': 'https://en.wiktionary.org/wiki/pelata',\n",
       "   'snippet': 'Etymology Edit ... From peli (“game”) +\\u200e -ata. Akin to Finnish pelata. Pronunciation ...',\n",
       "   'position': 2},\n",
       "  {'title': 'pelätä (pelkää) - Finnish Word of the Day - WordPress.com',\n",
       "   'link': 'https://suomenkielen.wordpress.com/2013/08/03/pelata-pelkaa/',\n",
       "   'snippet': 'pelätä MEANING: Verb: Fear, dread, be afraid of. Pelätä appears in our example in its 3rd person indicative present form, pelkää.',\n",
       "   'date': 'Aug 3, 2013',\n",
       "   'position': 3},\n",
       "  {'title': 'pelätä\\u200e (Finnish): meaning, translation - WordSense Dictionary',\n",
       "   'link': 'https://www.wordsense.eu/pel%C3%A4t%C3%A4/',\n",
       "   'snippet': 'pelätä (Finnish). Origin & history. From Proto-Finnic *pelkä-\\u200e, derived from Proto-Uralic *peli- of identical meaning (whence eg. Northern Sami ballat and ...',\n",
       "   'position': 4},\n",
       "  {'title': 'pelkäät\\u200e (Finnish): meaning, translation - WordSense Dictionary',\n",
       "   'link': 'https://www.wordsense.eu/pelk%C3%A4%C3%A4t/',\n",
       "   'snippet': 'pelätä (Finnish). Origin & history. From Proto-Finnic *pelkä-\\u200e, derived from Proto-Uralic *peli- of identical meaning (whence eg. Northern Sami ballat and ...',\n",
       "   'position': 5},\n",
       "  {'title': 'Why Doesn\\'t Siivota Become \"Siipoan\"? - Uusi kielemme',\n",
       "   'link': 'https://uusikielemme.fi/finnish-grammar/consonant-gradation/why-doesnt-siivota-become-siipoan',\n",
       "   'snippet': \"Let's first look at the verbs pelata (“to play”) and pelätä (“to fear”). Their infinitive is identical except for the different vowels. Yet, ...\",\n",
       "   'date': 'Sep 28, 2019',\n",
       "   'position': 6},\n",
       "  {'title': 'Pelottaa etymology in Finnish | Etymologeek.com',\n",
       "   'link': 'https://www.etymologeek.com/fin/pelottaa',\n",
       "   'snippet': 'Finnish word pelottaa comes from Finnish pelätä ((transitive, + partitive) To fear, dread, be afraid of.) Detailed word origin of pelottaa ...',\n",
       "   'position': 7},\n",
       "  {'title': 'Pelätä conjugation in Finnish in all forms | CoolJugator.com',\n",
       "   'link': 'https://cooljugator.com/fi/pel%C3%A4t%C3%A4',\n",
       "   'snippet': 'Conjugate the Finnish verb pelätä in all forms and with usage examplesundefined. Pelätä conjugation has never been easier!',\n",
       "   'position': 8},\n",
       "  {'title': \"Finnish verb 'pelätä' conjugated - Verbix\",\n",
       "   'link': 'https://www.verbix.com/webverbix/finnish/pel%C3%A4t%C3%A4',\n",
       "   'snippet': \"From urj-fin-pro *pelgäit'äk, derived from Proto-Uralic *pele- of identical meaning (whence e.g. Northern Sami ballat, Erzya пелемс, Mansi пилуӈкве and ...\",\n",
       "   'position': 9},\n",
       "  {'title': 'What aspects of Finnish just have to be memorized similar to noun gender in other languages? : r/LearnFinnish - Reddit',\n",
       "   'link': 'https://www.reddit.com/r/LearnFinnish/comments/arxu7r/what_aspects_of_finnish_just_have_to_be_memorized/',\n",
       "   'snippet': 'Consonant gradation sometimes can only be memorized or maybe also explained by knowing related words. Pelätä means to be afraid. Pelata means to ...',\n",
       "   'date': 'Feb 18, 2019',\n",
       "   'position': 10}],\n",
       " 'peopleAlsoAsk': [{'question': 'What is the meaning of Pelko?',\n",
       "   'snippet': \"fear pelko on ― it's scary to (literally, “there is a fear to”)\",\n",
       "   'title': 'pelko - Wiktionary, the free dictionary',\n",
       "   'link': 'https://en.wiktionary.org/wiki/pelko'},\n",
       "  {'question': 'What is the origin of the word Finnish?',\n",
       "   'snippet': 'Finnish (adj.) \"of or pertaining to Finland or its inhabitants,\" c. 1790, from Finn + -ish. Earlier was Finnic (1660s as a noun, in reference to the language). Related: Finno-.',\n",
       "   'title': 'finnish | Etymology, origin and meaning of finnish by etymonline',\n",
       "   'link': 'https://www.etymonline.com/word/finnish'}],\n",
       " 'relatedSearches': [{'query': 'Pelata in English'},\n",
       "  {'query': 'Pelata croatian'}]}"
      ]
     },
     "execution_count": 16,
     "metadata": {},
     "output_type": "execute_result"
    }
   ],
   "source": [
    "search_results"
   ]
  },
  {
   "cell_type": "code",
   "execution_count": null,
   "metadata": {},
   "outputs": [],
   "source": []
  },
  {
   "cell_type": "code",
   "execution_count": 3,
   "metadata": {},
   "outputs": [
    {
     "data": {
      "text/plain": [
       "['Barack Obama',\n",
       " 'Family of Barack Obama',\n",
       " 'Barack Obama Sr.',\n",
       " 'Presidency of Barack Obama',\n",
       " 'Early life and career of Barack Obama',\n",
       " 'Barack Obama religion conspiracy theories',\n",
       " 'Barack Obama tan suit controversy',\n",
       " 'Barack Obama citizenship conspiracy theories',\n",
       " 'Speeches of Barack Obama',\n",
       " 'Cabinet of Barack Obama']"
      ]
     },
     "execution_count": 3,
     "metadata": {},
     "output_type": "execute_result"
    }
   ],
   "source": [
    "import wikipedia\n",
    "\n",
    "wikipedia.search('Barack Obama')"
   ]
  }
 ],
 "metadata": {
  "kernelspec": {
   "display_name": "openai-app",
   "language": "python",
   "name": "python3"
  },
  "language_info": {
   "codemirror_mode": {
    "name": "ipython",
    "version": 3
   },
   "file_extension": ".py",
   "mimetype": "text/x-python",
   "name": "python",
   "nbconvert_exporter": "python",
   "pygments_lexer": "ipython3",
   "version": "3.10.12"
  },
  "orig_nbformat": 4
 },
 "nbformat": 4,
 "nbformat_minor": 2
}
