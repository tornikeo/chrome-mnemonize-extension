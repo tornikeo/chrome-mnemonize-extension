{
 "cells": [
  {
   "cell_type": "code",
   "execution_count": 1,
   "metadata": {},
   "outputs": [
    {
     "name": "stdout",
     "output_type": "stream",
     "text": [
      "/home/tornikeo/Documents/personal/serverless/chrome-mnemonize/api\n"
     ]
    }
   ],
   "source": [
    "%load_ext autoreload\n",
    "%autoreload 2\n",
    "%cd .."
   ]
  },
  {
   "cell_type": "code",
   "execution_count": 2,
   "metadata": {},
   "outputs": [
    {
     "data": {
      "text/plain": [
       "''"
      ]
     },
     "execution_count": 2,
     "metadata": {},
     "output_type": "execute_result"
    }
   ],
   "source": [
    "import dotenv\n",
    "assert dotenv.load_dotenv()\n",
    "import os"
   ]
  },
  {
   "cell_type": "code",
   "execution_count": 3,
   "metadata": {},
   "outputs": [],
   "source": [
    "from app.llm.basic import create_mnemonic"
   ]
  },
  {
   "cell_type": "code",
   "execution_count": 4,
   "metadata": {},
   "outputs": [],
   "source": [
    "from langchain.chat_models import ChatOpenAI\n",
    "from langchain.prompts.chat import (\n",
    "    ChatPromptTemplate,\n",
    "    SystemMessagePromptTemplate,\n",
    "    AIMessagePromptTemplate,\n",
    "    HumanMessagePromptTemplate,\n",
    ")\n",
    "from langchain.schema import AIMessage, HumanMessage, SystemMessage"
   ]
  },
  {
   "cell_type": "code",
   "execution_count": 7,
   "metadata": {},
   "outputs": [],
   "source": [
    "chat = ChatOpenAI(temperature=.05)"
   ]
  },
  {
   "cell_type": "code",
   "execution_count": 8,
   "metadata": {},
   "outputs": [
    {
     "data": {
      "text/plain": [
       "AIMessage(content='The cue is \"ketchup\". Just like ketchup is often used to enhance the flavor of food, \"keskustella\" enhances communication by allowing people to chat. The similarity in the beginning sounds of \"ketchup\" and \"keskustella\" helps to create a memorable association between the two words.', additional_kwargs={}, example=False)"
      ]
     },
     "execution_count": 8,
     "metadata": {},
     "output_type": "execute_result"
    }
   ],
   "source": [
    "messages = [\n",
    "    SystemMessage(\n",
    "        content=\"You are a perfect clone of Giordano Bruno, and you design incredibly memorable mnemonics to associate words with eachother.\"\n",
    "    ),\n",
    "    HumanMessage(\n",
    "        content=\n",
    "f\"\"\"\n",
    "Hey, I need you to create a mnemonic using the keyword method. I need this to memorize a word from a foreign language.\n",
    "\n",
    "Here's how the keyword method works:\n",
    "\n",
    "- First, you choose a keyword that somehow cues you to think of the foreign word.\n",
    "- Then, you imagine that keyword connected with the meaning of the word you're trying to learn.\n",
    "- The visualization and association should trigger the recall of the correct word.\n",
    "\n",
    "For example, if you're trying to learn the Spanish word for cat, which is gato, first think of a gate and then imagine the cat sitting on top of the gate. Even though the \"a\" sound in gato is short and the \"a\" sound in gate is long, the beginnings are similar enough to help you remember the association between gate and cat and to recall the meaning of gato.\n",
    "\n",
    "I need you to print the output in this format for me: \"The cue is <Cue>. <Explain how cue somehow connects to associated word>. <Extra explanation, if needed>\" Please do not include any other output.\n",
    "\"\"\"\n",
    "),\n",
    "    AIMessage(\n",
    "        content=\n",
    "f\"\"\"\n",
    "Sure thing. Provide a foreign word and the associated word, and I respond in that format.\n",
    "\"\"\"\n",
    "    ),\n",
    "    HumanMessage(\n",
    "        content=\n",
    "f\"\"\"\n",
    "Foreign word is \"{word}\", Association is \"{association}\".\n",
    "\"\"\"\n",
    "    )\n",
    "]\n",
    "chat(messages)"
   ]
  },
  {
   "cell_type": "code",
   "execution_count": null,
   "metadata": {},
   "outputs": [],
   "source": []
  }
 ],
 "metadata": {
  "kernelspec": {
   "display_name": "openai-app",
   "language": "python",
   "name": "python3"
  },
  "language_info": {
   "codemirror_mode": {
    "name": "ipython",
    "version": 3
   },
   "file_extension": ".py",
   "mimetype": "text/x-python",
   "name": "python",
   "nbconvert_exporter": "python",
   "pygments_lexer": "ipython3",
   "version": "3.10.12"
  },
  "orig_nbformat": 4
 },
 "nbformat": 4,
 "nbformat_minor": 2
}
